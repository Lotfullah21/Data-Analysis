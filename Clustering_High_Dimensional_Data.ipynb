{
  "nbformat": 4,
  "nbformat_minor": 0,
  "metadata": {
    "colab": {
      "name": "Clustering High Dimensional Data.ipynb",
      "provenance": [],
      "collapsed_sections": [],
      "authorship_tag": "ABX9TyNaDWp+vEpe3hWgenRuOGLY",
      "include_colab_link": true
    },
    "kernelspec": {
      "name": "python3",
      "display_name": "Python 3"
    },
    "language_info": {
      "name": "python"
    }
  },
  "cells": [
    {
      "cell_type": "markdown",
      "metadata": {
        "id": "view-in-github",
        "colab_type": "text"
      },
      "source": [
        "<a href=\"https://colab.research.google.com/github/Lotfullah21/Data-Analysis/blob/main/Clustering_High_Dimensional_Data.ipynb\" target=\"_parent\"><img src=\"https://colab.research.google.com/assets/colab-badge.svg\" alt=\"Open In Colab\"/></a>"
      ]
    },
    {
      "cell_type": "markdown",
      "source": [
        "Clustering is one of the most widely used techniques for exploratory data analysis, from social science to biology to computer science, people try to get a first intuition about their data by identifying meaningful groups among the data points.\n",
        "Clustering is the task of grouping a set of objects such that similar objects end up in the same group and dissimilar objects are seperated into different groups"
      ],
      "metadata": {
        "id": "wj9UBZ8qDTCZ"
      }
    }
  ]
}