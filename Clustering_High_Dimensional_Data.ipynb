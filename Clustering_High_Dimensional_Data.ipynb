{
  "nbformat": 4,
  "nbformat_minor": 0,
  "metadata": {
    "colab": {
      "name": "Clustering High Dimensional Data.ipynb",
      "provenance": [],
      "collapsed_sections": [],
      "authorship_tag": "ABX9TyOC50BEOGGrcRABiS40RjCf",
      "include_colab_link": true
    },
    "kernelspec": {
      "name": "python3",
      "display_name": "Python 3"
    },
    "language_info": {
      "name": "python"
    }
  },
  "cells": [
    {
      "cell_type": "markdown",
      "metadata": {
        "id": "view-in-github",
        "colab_type": "text"
      },
      "source": [
        "<a href=\"https://colab.research.google.com/github/Lotfullah21/Data-Analysis/blob/main/Clustering_High_Dimensional_Data.ipynb\" target=\"_parent\"><img src=\"https://colab.research.google.com/assets/colab-badge.svg\" alt=\"Open In Colab\"/></a>"
      ]
    },
    {
      "cell_type": "markdown",
      "source": [
        "### Unsupervised Learning\n",
        "The goal of supervised learning is clear - we wish to learn a classifier which will predict the labels of future examples as accurately as possible. Furthermore, a supervised learner can estimate the success, or the risk, of its hypothesis using labeled training data by computing empirical loss, in contrast **clustering** is an unsupervised learning problem, namely there are no labels that we try to predict. instead we wish to organize the data in some meaningful way. as a result there is no clear success evaluation procedure for clustering"
      ],
      "metadata": {
        "id": "wj9UBZ8qDTCZ"
      }
    },
    {
      "cell_type": "markdown",
      "source": [
        "### Clustering\n",
        "Clustering is one of the most widely used techniques for exploratory data analysis, from social science to biology to computer science, people try to get a first intuition about their data by identifying meaningful groups among the data points.\n",
        "Clustering is the task of grouping a set of objects such that similar objects end up in the same group and dissimilar objects are seperated into different groups"
      ],
      "metadata": {
        "id": "d7FH7bcH5a_4"
      }
    },
    {
      "cell_type": "markdown",
      "source": [
        "Mathematically speaking, similarity (or proximity) is not a transitive relation, while cluster sharing is an equivalence relation and in particular, it is transitive relation"
      ],
      "metadata": {
        "id": "ztZTRfTp289O"
      }
    },
    {
      "cell_type": "markdown",
      "source": [
        "### Clustering Model:\n",
        "Clustering tasks can vary in terms of both the type of input they have and the type of outcome they are expected to compute.\n",
        "\n",
        "1. Input- a set of elements, X , and a distance function over it.\n",
        "2. Output- a partition of the domain set X into subsets\n",
        "\n",
        "We need to employ a stopping criteria inorder to do clustering, here we will mention some common of them.\n",
        "1. fixed number of clusters - fix some parameters, k , and stop merging as soon as the number of cluster is k.\n",
        "2. Distance upper bound - fix some r. stop merging as soon as all the between clusters distance are larger than r. \n"
      ],
      "metadata": {
        "id": "LU2MctWn4Kv0"
      }
    },
    {
      "cell_type": "markdown",
      "source": [
        ""
      ],
      "metadata": {
        "id": "C19ORzQ1ZW4F"
      }
    },
    {
      "cell_type": "markdown",
      "source": [
        ""
      ],
      "metadata": {
        "id": "GpK0ruQsZSHQ"
      }
    },
    {
      "cell_type": "markdown",
      "source": [
        "### Application:\n",
        "for labeled datasets, classification algorithm such as Logistic Regression, SVMs, Random Forest Classifiers are well suited, but for datasets without their labels, the above mentioned algorithms will not able to give a satisfactory solution for us, Hence, the Clustering algorithms Comes into picture, it make use of all the features.\n",
        "\n",
        "Here are few areas which clustering is widely used.\n",
        "\n",
        "1. Customer Segmentation: we can cluster our customers based on their preferences, recent purchases, it can help us to know our customers more, so that we can serve the right things to the correct customers.\n",
        "2. For anamoly detection: we have the outliers which is not close by to any other datasets, it might be a someone who is having weird behavior in our system, maybe a thief.\n",
        "3. For data analysis: we can visualize our data and get some intuition about it by observing the clusters"
      ],
      "metadata": {
        "id": "7V-h-yHD7LSB"
      }
    },
    {
      "cell_type": "code",
      "source": [
        ""
      ],
      "metadata": {
        "id": "c5YQqe7b4HUI"
      },
      "execution_count": null,
      "outputs": []
    }
  ]
}