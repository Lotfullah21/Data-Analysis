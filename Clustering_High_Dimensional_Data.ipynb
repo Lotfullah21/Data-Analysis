{
  "nbformat": 4,
  "nbformat_minor": 0,
  "metadata": {
    "colab": {
      "name": "Clustering High Dimensional Data.ipynb",
      "provenance": [],
      "authorship_tag": "ABX9TyP2X0XFO8ycXntovFXVOeOb",
      "include_colab_link": true
    },
    "kernelspec": {
      "name": "python3",
      "display_name": "Python 3"
    },
    "language_info": {
      "name": "python"
    }
  },
  "cells": [
    {
      "cell_type": "markdown",
      "metadata": {
        "id": "view-in-github",
        "colab_type": "text"
      },
      "source": [
        "<a href=\"https://colab.research.google.com/github/Lotfullah21/Data-Analysis/blob/main/Clustering_High_Dimensional_Data.ipynb\" target=\"_parent\"><img src=\"https://colab.research.google.com/assets/colab-badge.svg\" alt=\"Open In Colab\"/></a>"
      ]
    },
    {
      "cell_type": "code",
      "execution_count": null,
      "metadata": {
        "id": "AsuP2ZvAvy93"
      },
      "outputs": [],
      "source": [
        ""
      ]
    }
  ]
}