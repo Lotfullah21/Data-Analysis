{
  "nbformat": 4,
  "nbformat_minor": 0,
  "metadata": {
    "colab": {
      "name": "Hirarchical Clustering.ipynb",
      "provenance": [],
      "collapsed_sections": [],
      "authorship_tag": "ABX9TyOU90UoWfGXh8DifJKD64xS",
      "include_colab_link": true
    },
    "kernelspec": {
      "name": "python3",
      "display_name": "Python 3"
    },
    "language_info": {
      "name": "python"
    }
  },
  "cells": [
    {
      "cell_type": "markdown",
      "metadata": {
        "id": "view-in-github",
        "colab_type": "text"
      },
      "source": [
        "<a href=\"https://colab.research.google.com/github/Lotfullah21/Data-Analysis/blob/main/Hirarchical_Clustering.ipynb\" target=\"_parent\"><img src=\"https://colab.research.google.com/assets/colab-badge.svg\" alt=\"Open In Colab\"/></a>"
      ]
    },
    {
      "cell_type": "markdown",
      "source": [
        "## Hirarchicla Clustering:\n",
        "one disadvantage of K_Means clustering is that it requires us to pre_specify the number of clusters K.\n",
        "in Hirarchical clustering it does not require that we commit to a particular choice of K. it also have a beautiful tree_based representation of the observations called *dendrogram*"
      ],
      "metadata": {
        "id": "D32Xt2rqDuqF"
      }
    },
    {
      "cell_type": "markdown",
      "source": [
        "Clustering is an unsupervised learning problem, in which we wish to partition a set of points into \"Meaningful\" subsets"
      ],
      "metadata": {
        "id": "WTdTWoX5ClEh"
      }
    },
    {
      "cell_type": "markdown",
      "source": [
        ""
      ],
      "metadata": {
        "id": "R8GuLldEDuxO"
      }
    }
  ]
}